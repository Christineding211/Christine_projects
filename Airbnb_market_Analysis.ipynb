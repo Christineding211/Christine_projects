{
 "cells": [
  {
   "cell_type": "markdown",
   "id": "c747d469-ee97-4b95-880f-feefd5456042",
   "metadata": {
    "id": "bA5ajAmk7XH6"
   },
   "source": [
    "![NYC Skyline](nyc.jpg)\n",
    "\n",
    "Welcome to New York City, one of the most-visited cities in the world. There are many Airbnb listings in New York City to meet the high demand for temporary lodging for travelers, which can be anywhere between a few nights to many months. In this project, we will take a closer look at the New York Airbnb market by combining data from multiple file types like `.csv`, `.tsv`, and `.xlsx`.\n",
    "\n",
    "Recall that **CSV**, **TSV**, and **Excel** files are three common formats for storing data. \n",
    "Three files containing data on 2019 Airbnb listings are available to you:\n",
    "\n",
    "**data/airbnb_price.csv**\n",
    "This is a CSV file containing data on Airbnb listing prices and locations.\n",
    "- **`listing_id`**: unique identifier of listing\n",
    "- **`price`**: nightly listing price in USD\n",
    "- **`nbhood_full`**: name of borough and neighborhood where listing is located\n",
    "\n",
    "**data/airbnb_room_type.xlsx**\n",
    "This is an Excel file containing data on Airbnb listing descriptions and room types.\n",
    "- **`listing_id`**: unique identifier of listing\n",
    "- **`description`**: listing description\n",
    "- **`room_type`**: Airbnb has three types of rooms: shared rooms, private rooms, and entire homes/apartments\n",
    "\n",
    "**data/airbnb_last_review.tsv**\n",
    "This is a TSV file containing data on Airbnb host names and review dates.\n",
    "- **`listing_id`**: unique identifier of listing\n",
    "- **`host_name`**: name of listing host\n",
    "- **`last_review`**: date when the listing was last reviewed"
   ]
  },
  {
   "cell_type": "code",
   "execution_count": 1,
   "id": "1fdc5784-479e-46cb-b05b-68439dcc94a7",
   "metadata": {
    "executionCancelledAt": null,
    "executionTime": 1759,
    "lastExecutedAt": 1712573806623,
    "lastExecutedByKernel": "91b25994-f5db-453b-af52-f46517042658",
    "lastScheduledRunId": null,
    "lastSuccessfullyExecutedCode": "# We've loaded your first package for you! You can add as many cells as you need.\nimport numpy as np\nimport pandas as pd\n\nairbnb_price = pd.read_csv('data/airbnb_price.csv')\nairbnb_room_type = pd.read_excel('data/airbnb_room_type.xlsx')\nairbnb_last_review = pd.read_csv('data/airbnb_last_review.tsv', sep='\\t')"
   },
   "outputs": [],
   "source": [
    "# We've loaded your first package for you! You can add as many cells as you need.\n",
    "import numpy as np\n",
    "import pandas as pd\n",
    "\n",
    "airbnb_price = pd.read_csv('data/airbnb_price.csv')\n",
    "airbnb_room_type = pd.read_excel('data/airbnb_room_type.xlsx')\n",
    "airbnb_last_review = pd.read_csv('data/airbnb_last_review.tsv', sep='\\t')"
   ]
  },
  {
   "cell_type": "markdown",
   "id": "b4b660d2-c7d1-40ee-a20b-78d395f882a0",
   "metadata": {},
   "source": [
    "Since three dataframes have the same column 'listing_id', can merge together for efficient analysis"
   ]
  },
  {
   "cell_type": "code",
   "execution_count": 2,
   "id": "6bc4bd85-a417-4d8c-9aa7-bf80ae77387d",
   "metadata": {
    "executionCancelledAt": null,
    "executionTime": 51,
    "lastExecutedAt": 1712573806676,
    "lastExecutedByKernel": "91b25994-f5db-453b-af52-f46517042658",
    "lastScheduledRunId": null,
    "lastSuccessfullyExecutedCode": "merged_df = pd.merge(airbnb_price, airbnb_room_type, on = 'listing_id')\nmerged_df_1 = pd.merge(merged_df, airbnb_last_review, on ='listing_id')"
   },
   "outputs": [],
   "source": [
    "merged_df = pd.merge(airbnb_price, airbnb_room_type, on = 'listing_id')\n",
    "merged_df_1 = pd.merge(merged_df, airbnb_last_review, on ='listing_id')"
   ]
  },
  {
   "cell_type": "code",
   "execution_count": 3,
   "id": "7f0a533a-cc05-416e-8219-50e8e83c57c9",
   "metadata": {
    "executionCancelledAt": null,
    "executionTime": 52,
    "lastExecutedAt": 1712573806729,
    "lastExecutedByKernel": "91b25994-f5db-453b-af52-f46517042658",
    "lastScheduledRunId": null,
    "lastSuccessfullyExecutedCode": "#view the columns of merged_df_1 after you've merged your DataFrames\nprint(merged_df_1.columns)",
    "outputsMetadata": {
     "0": {
      "height": 80,
      "type": "stream"
     }
    }
   },
   "outputs": [
    {
     "name": "stdout",
     "output_type": "stream",
     "text": [
      "Index(['listing_id', 'price', 'nbhood_full', 'description', 'room_type',\n",
      "       'host_name', 'last_review'],\n",
      "      dtype='object')\n"
     ]
    }
   ],
   "source": [
    "#view the columns of merged_df_1 after you've merged your DataFrames\n",
    "print(merged_df_1.columns)"
   ]
  },
  {
   "cell_type": "code",
   "execution_count": 4,
   "id": "dd449129-c358-4a39-ad52-30503c11245d",
   "metadata": {
    "executionCancelledAt": null,
    "executionTime": 56,
    "lastExecutedAt": 1712573806785,
    "lastExecutedByKernel": "91b25994-f5db-453b-af52-f46517042658",
    "lastScheduledRunId": null,
    "lastSuccessfullyExecutedCode": "merged_df_1['last_review'].head()"
   },
   "outputs": [
    {
     "data": {
      "text/plain": [
       "0     May 21 2019\n",
       "1    July 05 2019\n",
       "2    June 22 2019\n",
       "3    June 24 2019\n",
       "4    June 09 2019\n",
       "Name: last_review, dtype: object"
      ]
     },
     "execution_count": 4,
     "metadata": {},
     "output_type": "execute_result"
    }
   ],
   "source": [
    "merged_df_1['last_review'].head()"
   ]
  },
  {
   "cell_type": "markdown",
   "id": "fff0e2fe-e655-4351-8b60-ec54322e997e",
   "metadata": {},
   "source": [
    "What are the dates of the earliest and most recent reviews? Store these values as two separate variables with your preferred names."
   ]
  },
  {
   "cell_type": "code",
   "execution_count": 5,
   "id": "837790f5-f89e-445f-95ff-ad98581a4374",
   "metadata": {
    "executionCancelledAt": null,
    "executionTime": 51,
    "lastExecutedAt": 1712573806836,
    "lastExecutedByKernel": "91b25994-f5db-453b-af52-f46517042658",
    "lastScheduledRunId": null,
    "lastSuccessfullyExecutedCode": "# Ensure the last_review column is in datetime format and compare as above before change\nmerged_df_1['last_review'] = pd.to_datetime(merged_df_1['last_review'])\nmerged_df_1['last_review'].head()"
   },
   "outputs": [
    {
     "data": {
      "text/plain": [
       "0   2019-05-21\n",
       "1   2019-07-05\n",
       "2   2019-06-22\n",
       "3   2019-06-24\n",
       "4   2019-06-09\n",
       "Name: last_review, dtype: datetime64[ns]"
      ]
     },
     "execution_count": 5,
     "metadata": {},
     "output_type": "execute_result"
    }
   ],
   "source": [
    "# Ensure the last_review column is in datetime format and compare as above before change\n",
    "merged_df_1['last_review'] = pd.to_datetime(merged_df_1['last_review'])\n",
    "merged_df_1['last_review'].head()"
   ]
  },
  {
   "cell_type": "code",
   "execution_count": 6,
   "id": "bfc1d2af-d046-4721-9204-ed05b78255a5",
   "metadata": {
    "executionCancelledAt": null,
    "executionTime": 47,
    "lastExecutedAt": 1712573806884,
    "lastExecutedByKernel": "91b25994-f5db-453b-af52-f46517042658",
    "lastScheduledRunId": null,
    "lastSuccessfullyExecutedCode": "first_reviewed = merged_df_1['last_review'].min()\nlast_reviewed = merged_df_1['last_review'].max()\nprint(first_reviewed)\nprint(last_reviewed)",
    "outputsMetadata": {
     "0": {
      "height": 59,
      "type": "stream"
     }
    }
   },
   "outputs": [
    {
     "name": "stdout",
     "output_type": "stream",
     "text": [
      "2019-01-01 00:00:00\n",
      "2019-07-09 00:00:00\n"
     ]
    }
   ],
   "source": [
    "first_reviewed = merged_df_1['last_review'].min()\n",
    "last_reviewed = merged_df_1['last_review'].max()\n",
    "print(first_reviewed)\n",
    "print(last_reviewed)"
   ]
  },
  {
   "cell_type": "markdown",
   "id": "5bb666e5-c162-4ff3-a9b5-75ff058e06a0",
   "metadata": {},
   "source": [
    "How many of the listings are private rooms? Save this into any variable.\n",
    "notice that the capitalization consistent is different"
   ]
  },
  {
   "cell_type": "code",
   "execution_count": 7,
   "id": "d6650efc-f8ea-4dec-a654-50aed28072e2",
   "metadata": {
    "executionCancelledAt": null,
    "executionTime": 52,
    "lastExecutedAt": 1712573806936,
    "lastExecutedByKernel": "91b25994-f5db-453b-af52-f46517042658",
    "lastScheduledRunId": null,
    "lastSuccessfullyExecutedCode": "#.str can only be used on a pandas Series containing strings. \nmerged_df_1['room_type'] = merged_df_1['room_type'].str.lower()\nnb_private_rooms = (merged_df_1['room_type'] == 'private room').sum()\nprint(f\"Number of private rooms count: {nb_private_rooms}\")",
    "outputsMetadata": {
     "0": {
      "height": 38,
      "type": "stream"
     }
    }
   },
   "outputs": [
    {
     "name": "stdout",
     "output_type": "stream",
     "text": [
      "Number of private rooms count: 11356\n"
     ]
    }
   ],
   "source": [
    "#.str can only be used on a pandas Series containing strings. since the capitalization is different, need to handle all to lower first\n",
    "merged_df_1['room_type'] = merged_df_1['room_type'].str.lower()\n",
    "nb_private_rooms = (merged_df_1['room_type'] == 'private room').sum()\n",
    "print(f\"Number of private rooms count: {nb_private_rooms}\")"
   ]
  },
  {
   "cell_type": "markdown",
   "id": "37a2eba5-9d97-4ded-a88c-adf231764aa8",
   "metadata": {},
   "source": [
    "What is the average listing price? Round to the nearest penny and save into a variable.\n"
   ]
  },
  {
   "cell_type": "code",
   "execution_count": 8,
   "id": "ca7ba358-1906-49e7-8afa-3dcb5febff25",
   "metadata": {
    "executionCancelledAt": null,
    "executionTime": 47,
    "lastExecutedAt": 1712573806984,
    "lastExecutedByKernel": "91b25994-f5db-453b-af52-f46517042658",
    "lastScheduledRunId": null,
    "lastSuccessfullyExecutedCode": "merged_df_1['price'].head()"
   },
   "outputs": [
    {
     "data": {
      "text/plain": [
       "0    225 dollars\n",
       "1     89 dollars\n",
       "2    200 dollars\n",
       "3     79 dollars\n",
       "4    150 dollars\n",
       "Name: price, dtype: object"
      ]
     },
     "execution_count": 8,
     "metadata": {},
     "output_type": "execute_result"
    }
   ],
   "source": [
    "#as below can see that the column is not numeric, it contain the string, so \n",
    "#need to removed the string and convert it into the numeric that pandas can calculate\n",
    "merged_df_1['price'].head()"
   ]
  },
  {
   "cell_type": "code",
   "execution_count": 9,
   "id": "35e0e316-3fc9-4ba0-a7f8-bbfc12bb1f1f",
   "metadata": {
    "executionCancelledAt": null,
    "executionTime": 72,
    "lastExecutedAt": 1712573807056,
    "lastExecutedByKernel": "91b25994-f5db-453b-af52-f46517042658",
    "lastScheduledRunId": null,
    "lastSuccessfullyExecutedCode": "#we need to removed the string and convert it into the numeric that pandas can calculate\nmerged_df_1['price'] = pd.to_numeric(merged_df_1['price'].str.replace('dollars', ''))\nprint(merged_df_1['price'])",
    "outputsMetadata": {
     "0": {
      "height": 269,
      "type": "stream"
     }
    }
   },
   "outputs": [
    {
     "name": "stdout",
     "output_type": "stream",
     "text": [
      "0        225\n",
      "1         89\n",
      "2        200\n",
      "3         79\n",
      "4        150\n",
      "        ... \n",
      "25204    129\n",
      "25205     45\n",
      "25206    235\n",
      "25207    100\n",
      "25208     30\n",
      "Name: price, Length: 25209, dtype: int64\n"
     ]
    }
   ],
   "source": [
    "#make sure the output is become to 'int64'\n",
    "merged_df_1['price'] = pd.to_numeric(merged_df_1['price'].str.replace('dollars', ''))\n",
    "print(merged_df_1['price'])"
   ]
  },
  {
   "cell_type": "code",
   "execution_count": 10,
   "id": "80bc8f83-3a53-48ee-bfb8-b36cc967b465",
   "metadata": {
    "executionCancelledAt": null,
    "executionTime": 54,
    "lastExecutedAt": 1712573807110,
    "lastExecutedByKernel": "91b25994-f5db-453b-af52-f46517042658",
    "lastScheduledRunId": null,
    "lastSuccessfullyExecutedCode": "avg_price = merged_df_1['price'].mean().round(2)\nprint(avg_price)",
    "outputsMetadata": {
     "0": {
      "height": 38,
      "type": "stream"
     }
    }
   },
   "outputs": [
    {
     "name": "stdout",
     "output_type": "stream",
     "text": [
      "141.78\n"
     ]
    }
   ],
   "source": [
    "avg_price = merged_df_1['price'].mean().round(2)\n",
    "print(avg_price)"
   ]
  },
  {
   "cell_type": "markdown",
   "id": "d911b26d-cbc7-41c7-b875-1e2849978d45",
   "metadata": {},
   "source": [
    "Combine the new variables into one DataFrame called review_dates with four columns in the following order: first_reviewed, last_reviewed, nb_private_rooms, and avg_price. The DataFrame should only contain one row of values."
   ]
  },
  {
   "cell_type": "code",
   "execution_count": 11,
   "id": "bc0ac5db-f51c-460f-91dd-274bfa44b908",
   "metadata": {
    "executionCancelledAt": null,
    "executionTime": 51,
    "lastExecutedAt": 1712573807161,
    "lastExecutedByKernel": "91b25994-f5db-453b-af52-f46517042658",
    "lastScheduledRunId": null,
    "lastSuccessfullyExecutedCode": "[first_reviewed]"
   },
   "outputs": [
    {
     "data": {
      "text/plain": [
       "[Timestamp('2019-01-01 00:00:00')]"
      ]
     },
     "execution_count": 11,
     "metadata": {},
     "output_type": "execute_result"
    }
   ],
   "source": [
    "#make sure the value inside the []\n",
    "[first_reviewed]"
   ]
  },
  {
   "cell_type": "code",
   "execution_count": 12,
   "id": "eeddba7d-5468-4d84-b8a6-f6d95169cb74",
   "metadata": {
    "executionCancelledAt": null,
    "executionTime": 48,
    "lastExecutedAt": 1712573807209,
    "lastExecutedByKernel": "91b25994-f5db-453b-af52-f46517042658",
    "lastScheduledRunId": null,
    "lastSuccessfullyExecutedCode": "[avg_price]"
   },
   "outputs": [
    {
     "data": {
      "text/plain": [
       "[141.78]"
      ]
     },
     "execution_count": 12,
     "metadata": {},
     "output_type": "execute_result"
    }
   ],
   "source": [
    "[avg_price]"
   ]
  },
  {
   "cell_type": "code",
   "execution_count": 13,
   "id": "b3961bc3-e58d-40a3-b71c-24a5d43d4656",
   "metadata": {
    "executionCancelledAt": null,
    "executionTime": 47,
    "lastExecutedAt": 1712573807256,
    "lastExecutedByKernel": "91b25994-f5db-453b-af52-f46517042658",
    "lastScheduledRunId": null,
    "lastSuccessfullyExecutedCode": "# Create a dictionary with column names as keys and the above variables as values\ndata = {\n    'first_reviewed':[first_reviewed],\n    'last_reviewed':[last_reviewed],\n    'nb_private_rooms':[nb_private_rooms],\n    'avg_price':[avg_price]\n}"
   },
   "outputs": [],
   "source": [
    "# Create a dictionary with column names as keys and the above variables as values\n",
    "data = {\n",
    "    'first_reviewed':[first_reviewed],\n",
    "    'last_reviewed':[last_reviewed],\n",
    "    'nb_private_rooms':[nb_private_rooms],\n",
    "    'avg_price':[avg_price]\n",
    "}"
   ]
  },
  {
   "cell_type": "code",
   "execution_count": 14,
   "id": "f7b2110b-62bc-423a-9de1-0f698071f6b9",
   "metadata": {
    "executionCancelledAt": null,
    "executionTime": 47,
    "lastExecutedAt": 1712573807305,
    "lastExecutedByKernel": "91b25994-f5db-453b-af52-f46517042658",
    "lastScheduledRunId": null,
    "lastSuccessfullyExecutedCode": "review_dates = pd.DataFrame(data)\nprint(review_dates)",
    "outputsMetadata": {
     "0": {
      "height": 59,
      "type": "stream"
     }
    }
   },
   "outputs": [
    {
     "name": "stdout",
     "output_type": "stream",
     "text": [
      "  first_reviewed last_reviewed  nb_private_rooms  avg_price\n",
      "0     2019-01-01    2019-07-09             11356     141.78\n"
     ]
    }
   ],
   "source": [
    "review_dates = pd.DataFrame(data)\n",
    "print(review_dates)"
   ]
  }
 ],
 "metadata": {
  "colab": {
   "name": "Welcome to DataCamp Workspaces.ipynb",
   "provenance": []
  },
  "kernelspec": {
   "display_name": "Python 3 (ipykernel)",
   "language": "python",
   "name": "python3"
  },
  "language_info": {
   "codemirror_mode": {
    "name": "ipython",
    "version": 3
   },
   "file_extension": ".py",
   "mimetype": "text/x-python",
   "name": "python",
   "nbconvert_exporter": "python",
   "pygments_lexer": "ipython3",
   "version": "3.11.4"
  }
 },
 "nbformat": 4,
 "nbformat_minor": 5
}
